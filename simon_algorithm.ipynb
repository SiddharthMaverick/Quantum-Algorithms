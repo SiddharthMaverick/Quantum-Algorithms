{
 "cells": [
  {
   "cell_type": "markdown",
   "metadata": {},
   "source": [
    "# Implementing Simon's Algorithm"
   ]
  },
  {
   "cell_type": "code",
   "execution_count": 1,
   "metadata": {},
   "outputs": [],
   "source": [
    "from qiskit import QuantumCircuit, transpile\n",
    "from qiskit_aer import AerSimulator\n",
    "from qiskit.visualization import plot_histogram\n",
    "from qiskit.primitives import Sampler\n",
    "import matplotlib.pyplot as plt\n",
    "\n",
    "simulator = AerSimulator()\n",
    "\n",
    "def quasi_probs_to_counts(quasi_probs, shots):\n",
    "    counts = {}\n",
    "    for bitstring, quasi_prob in quasi_probs.items():\n",
    "        counts[bitstring] = int(round(quasi_prob * shots))\n",
    "    return counts\n",
    "\n"
   ]
  },
  {
   "cell_type": "code",
   "execution_count": 3,
   "metadata": {},
   "outputs": [
    {
     "name": "stdout",
     "output_type": "stream",
     "text": [
      "     ┌───┐     ┌───┐              ┌─┐   \n",
      "q_0: ┤ H ├──■──┤ H ├──────────────┤M├───\n",
      "     ├───┤  │  ├───┤     ┌─┐      └╥┘   \n",
      "q_1: ┤ H ├──┼──┤ H ├─────┤M├───────╫────\n",
      "     ├───┤  │  ├───┤     └╥┘┌─┐    ║    \n",
      "q_2: ┤ H ├──┼──┤ H ├──────╫─┤M├────╫────\n",
      "     ├───┤  │  ├───┤      ║ └╥┘┌─┐ ║    \n",
      "q_3: ┤ H ├──┼──┤ H ├──────╫──╫─┤M├─╫────\n",
      "     ├───┤  │  └───┘┌───┐ ║  ║ └╥┘ ║ ┌─┐\n",
      "q_4: ┤ H ├──┼────■──┤ H ├─╫──╫──╫──╫─┤M├\n",
      "     └───┘┌─┴─┐  │  └───┘ ║  ║  ║  ║ └╥┘\n",
      "q_5: ─────┤ X ├──┼────────╫──╫──╫──╫──╫─\n",
      "          └───┘  │        ║  ║  ║  ║  ║ \n",
      "q_6: ────────────┼────────╫──╫──╫──╫──╫─\n",
      "                 │        ║  ║  ║  ║  ║ \n",
      "q_7: ────────────┼────────╫──╫──╫──╫──╫─\n",
      "                 │        ║  ║  ║  ║  ║ \n",
      "q_8: ────────────┼────────╫──╫──╫──╫──╫─\n",
      "               ┌─┴─┐      ║  ║  ║  ║  ║ \n",
      "q_9: ──────────┤ X ├──────╫──╫──╫──╫──╫─\n",
      "               └───┘      ║  ║  ║  ║  ║ \n",
      "c: 5/═════════════════════╩══╩══╩══╩══╩═\n",
      "                          1  2  3  0  4 \n",
      "Simon's Algorithm:\n",
      "{0: 231, 1: 255, 16: 274, 17: 264}\n"
     ]
    },
    {
     "data": {
      "image/png": "[encoded data removed]",
      "text/plain": [
       "<Figure size 640x480 with 1 Axes>"
      ]
     },
     "execution_count": 3,
     "metadata": {},
     "output_type": "execute_result"
    }
   ],
   "source": [
    "from qiskit import QuantumCircuit, transpile\n",
    "from qiskit_aer import AerSimulator\n",
    "from qiskit.visualization import plot_histogram\n",
    "from qiskit.primitives import Sampler\n",
    "import matplotlib.pyplot as plt\n",
    "\n",
    "simulator = AerSimulator()\n",
    "\n",
    "\n",
    "def quasi_probs_to_counts(quasi_probs, shots):\n",
    "    counts = {}\n",
    "    for bitstring, quasi_prob in quasi_probs.items():\n",
    "        counts[bitstring] = int(round(quasi_prob * shots))\n",
    "    return counts\n",
    "\n",
    "# Simon's Algorithm Implementation\n",
    "\n",
    "n = int(input())  # Number of qubits in the function input\n",
    "s = input() # Secret string\n",
    "simon_circuit = QuantumCircuit(2*n, n)\n",
    "\n",
    "# Apply Hadamard gates\n",
    "simon_circuit.h(range(n))\n",
    "\n",
    "# Oracle for f(x) = f(x ⊕ s)\n",
    "for i in range(n):\n",
    "    if s[i] == '1':\n",
    "        simon_circuit.cx(i, i + n)\n",
    "\n",
    "# Apply Hadamard gates\n",
    "simon_circuit.h(range(n))\n",
    "\n",
    "\n",
    "simon_circuit.measure(range(n), range(n))\n",
    "\n",
    "\n",
    "print(simon_circuit)\n",
    "simon_circuit = transpile(simon_circuit, simulator)\n",
    "sampler = Sampler()\n",
    "result = sampler.run([simon_circuit], shots=1024).result()\n",
    "quasi_probs = result.quasi_dists[0]\n",
    "counts = quasi_probs_to_counts(quasi_probs, 1024)\n",
    "print(\"Simon's Algorithm:\")\n",
    "print(counts)\n",
    "plot_histogram(counts)\n",
    "    \n",
    "    "
   ]
  },
  {
   "cell_type": "code",
   "execution_count": null,
   "metadata": {},
   "outputs": [],
   "source": []
  }
 ],
 "metadata": {
  "kernelspec": {
   "display_name": "cwq",
   "language": "python",
   "name": "python3"
  },
  "language_info": {
   "codemirror_mode": {
    "name": "ipython",
    "version": 3
   },
   "file_extension": ".py",
   "mimetype": "text/x-python",
   "name": "python",
   "nbconvert_exporter": "python",
   "pygments_lexer": "ipython3",
   "version": "3.12.4"
  }
 },
 "nbformat": 4,
 "nbformat_minor": 2
}

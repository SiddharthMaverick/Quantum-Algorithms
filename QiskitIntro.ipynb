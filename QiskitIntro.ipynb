{
 "cells": [
  {
   "cell_type": "code",
   "execution_count": 5,
   "metadata": {},
   "outputs": [],
   "source": [
    "import qiskit"
   ]
  },
  {
   "cell_type": "code",
   "execution_count": 6,
   "metadata": {},
   "outputs": [
    {
     "data": {
      "image/png": "[encoded data removed]",
      "text/plain": [
       "<Figure size 143.647x117.056 with 1 Axes>"
      ]
     },
     "execution_count": 6,
     "metadata": {},
     "output_type": "execute_result"
    }
   ],
   "source": [
    "from qiskit import * ### Importing the library to our notebook\n",
    "%matplotlib inline\n",
    "q = QuantumRegister(1, 'q') ### (No. of qubits, name of the qubit(s))\n",
    "qc=QuantumCircuit(q)\n",
    "qc.draw(output='mpl') ### Drawing the quantum circuit\n"
   ]
  },
  {
   "cell_type": "code",
   "execution_count": 18,
   "metadata": {},
   "outputs": [
    {
     "data": {
      "text/plain": [
       "<qiskit.circuit.instructionset.InstructionSet at 0x240d2f09120>"
      ]
     },
     "execution_count": 18,
     "metadata": {},
     "output_type": "execute_result"
    }
   ],
   "source": [
    "import numpy as np\n",
    "from qiskit import QuantumCircuit\n",
    "\n",
    "# 1. A quantum circuit for preparing the quantum state |000> + i |111>\n",
    "qc_example = QuantumCircuit(3)\n",
    "qc_example.h(0)          # generate superpostion\n",
    "qc_example.p(np.pi/2,0)  # add quantum phase\n",
    "qc_example.cx(0,1)       # 0th-qubit-Controlled-NOT gate on 1st qubit\n",
    "qc_example.cx(0,2)       # 0th-qubit-Controlled-NOT gate on 2nd qubit"
   ]
  },
  {
   "cell_type": "code",
   "execution_count": 19,
   "metadata": {},
   "outputs": [
    {
     "name": "stdout",
     "output_type": "stream",
     "text": [
      "     ┌───┐     ┌─┐   \n",
      "q_0: ┤ H ├──■──┤M├───\n",
      "     └───┘┌─┴─┐└╥┘┌─┐\n",
      "q_1: ─────┤ X ├─╫─┤M├\n",
      "          └───┘ ║ └╥┘\n",
      "c: 2/═══════════╩══╩═\n",
      "                0  1 \n"
     ]
    }
   ],
   "source": [
    "from qiskit import QuantumCircuit\n",
    "\n",
    "\n",
    "def build_bell_circuit():\n",
    "    \"\"\"Returns a circuit putting 2 qubits in the Bell state.\"\"\"\n",
    "    qc = QuantumCircuit(2, 2)\n",
    "    qc.h(0)\n",
    "    qc.cx(0, 1)\n",
    "    qc.measure([0, 1], [0, 1])\n",
    "    return qc\n",
    "\n",
    "\n",
    "# Create the circuit\n",
    "bell_circuit = build_bell_circuit()\n",
    "\n",
    "# Use the internal .draw() to print the circuit\n",
    "print(bell_circuit)"
   ]
  },
  {
   "cell_type": "code",
   "execution_count": 20,
   "metadata": {},
   "outputs": [
    {
     "name": "stdout",
     "output_type": "stream",
     "text": [
      "          ┌───┐                    \n",
      "q_0: ──■──┤ Z ├──■─────────────────\n",
      "     ┌─┴─┐├───┤┌─┴─┐┌───┐          \n",
      "q_1: ┤ X ├┤ X ├┤ X ├┤ X ├──────────\n",
      "     └───┘└─┬─┘└───┘└─┬─┘     ┌───┐\n",
      "q_2: ───────■────■────■────■──┤ X ├\n",
      "     ┌───┐     ┌─┴─┐┌───┐┌─┴─┐└─┬─┘\n",
      "q_3: ┤ X ├─────┤ X ├┤ X ├┤ X ├──■──\n",
      "     └─┬─┘┌───┐└───┘└─┬─┘└───┘     \n",
      "q_4: ──■──┤ Z ├───────■────────────\n",
      "          └───┘                    \n",
      "     ┌───┐\n",
      "q_0: ┤ Z ├\n",
      "     └───┘\n",
      "q_1: ─────\n",
      "     ┌───┐\n",
      "q_2: ┤ X ├\n",
      "     └─┬─┘\n",
      "q_3: ──■──\n",
      "     ┌───┐\n",
      "q_4: ┤ Z ├\n",
      "     └───┘\n"
     ]
    }
   ],
   "source": [
    "from qiskit import QuantumCircuit\n",
    "\n",
    "from qiskit.transpiler import PassManager\n",
    "from qiskit.transpiler.passes import CommutationAnalysis, CommutativeCancellation\n",
    "\n",
    "circuit = QuantumCircuit(5)\n",
    "# Quantum Instantaneous Polynomial Time example\n",
    "circuit.cx(0, 1)\n",
    "circuit.cx(2, 1)\n",
    "circuit.cx(4, 3)\n",
    "circuit.cx(2, 3)\n",
    "circuit.z(0)\n",
    "circuit.z(4)\n",
    "circuit.cx(0, 1)\n",
    "circuit.cx(2, 1)\n",
    "circuit.cx(4, 3)\n",
    "circuit.cx(2, 3)\n",
    "circuit.cx(3, 2)\n",
    "\n",
    "print(circuit)\n",
    "\n",
    "pm = PassManager()\n",
    "pm.append([CommutationAnalysis(), CommutativeCancellation()])\n",
    "new_circuit = pm.run(circuit)\n",
    "print(new_circuit)"
   ]
  },
  {
   "cell_type": "code",
   "execution_count": 21,
   "metadata": {},
   "outputs": [
    {
     "name": "stdout",
     "output_type": "stream",
     "text": [
      "Basic simulator : \n",
      "{'11111': 529, '00000': 495}\n"
     ]
    }
   ],
   "source": [
    "from qiskit import QuantumCircuit, transpile\n",
    "from qiskit.providers.basic_provider import BasicSimulator\n",
    "\n",
    "\n",
    "###############################################################\n",
    "# Make a quantum circuit for the GHZ state.\n",
    "###############################################################\n",
    "num_qubits = 5\n",
    "qc = QuantumCircuit(num_qubits, num_qubits, name=\"ghz\")\n",
    "\n",
    "# Create a GHZ state\n",
    "qc.h(0)\n",
    "for i in range(num_qubits - 1):\n",
    "    qc.cx(i, i + 1)\n",
    "# Insert a barrier before measurement\n",
    "qc.barrier()\n",
    "# Measure all of the qubits in the standard basis\n",
    "for i in range(num_qubits):\n",
    "    qc.measure(i, i)\n",
    "\n",
    "sim_backend = BasicSimulator()\n",
    "job = sim_backend.run(transpile(qc, sim_backend), shots=1024)\n",
    "result = job.result()\n",
    "print(\"Basic simulator : \")\n",
    "print(result.get_counts(qc))"
   ]
  },
  {
   "cell_type": "code",
   "execution_count": 22,
   "metadata": {},
   "outputs": [
    {
     "name": "stdout",
     "output_type": "stream",
     "text": [
      "     »\n",
      "q_0: »\n",
      "     »\n",
      "q_1: »\n",
      "     »\n",
      "q_2: »\n",
      "     »\n",
      "q_3: »\n",
      "     »\n",
      "c: 4/»\n",
      "     »\n",
      "«     ┌────────────────────────────────────────────────────────────────────────────┐»\n",
      "«q_0: ┤0                                                                           ├»\n",
      "«     │                                                                            │»\n",
      "«q_1: ┤1                                                                           ├»\n",
      "«     │  Initialize(0.5j,0.35355,0,0,0,0,0,0,0.35355,0.35355j,0,0,0,0,0.5,0.35355) │»\n",
      "«q_2: ┤2                                                                           ├»\n",
      "«     │                                                                            │»\n",
      "«q_3: ┤3                                                                           ├»\n",
      "«     └────────────────────────────────────────────────────────────────────────────┘»\n",
      "«c: 4/══════════════════════════════════════════════════════════════════════════════»\n",
      "«                                                                                   »\n",
      "«     ┌─┐         \n",
      "«q_0: ┤M├─────────\n",
      "«     └╥┘┌─┐      \n",
      "«q_1: ─╫─┤M├──────\n",
      "«      ║ └╥┘┌─┐   \n",
      "«q_2: ─╫──╫─┤M├───\n",
      "«      ║  ║ └╥┘┌─┐\n",
      "«q_3: ─╫──╫──╫─┤M├\n",
      "«      ║  ║  ║ └╥┘\n",
      "«c: 4/═╩══╩══╩══╩═\n",
      "«      0  1  2  3 \n",
      "Desired probabilities: \n",
      "['0.250', '0.125', '0.000', '0.000', '0.000', '0.000', '0.000', '0.000', '0.125', '0.125', '0.000', '0.000', '0.000', '0.000', '0.250', '0.125']\n",
      "Probabilities from simulator: \n",
      "['0.252', '0.124', '0.000', '0.000', '0.000', '0.000', '0.000', '0.000', '0.129', '0.121', '0.000', '0.000', '0.000', '0.000', '0.255', '0.120']\n"
     ]
    }
   ],
   "source": [
    "\n",
    "import math\n",
    "from qiskit import QuantumCircuit, transpile\n",
    "from qiskit.providers.basic_provider import BasicSimulator\n",
    "\n",
    "\n",
    "###############################################################\n",
    "# Make a quantum circuit for state initialization.\n",
    "###############################################################\n",
    "circuit = QuantumCircuit(4, 4, name=\"initializer_circ\")\n",
    "\n",
    "desired_vector = [\n",
    "    1 / math.sqrt(4) * complex(0, 1),\n",
    "    1 / math.sqrt(8) * complex(1, 0),\n",
    "    0,\n",
    "    0,\n",
    "    0,\n",
    "    0,\n",
    "    0,\n",
    "    0,\n",
    "    1 / math.sqrt(8) * complex(1, 0),\n",
    "    1 / math.sqrt(8) * complex(0, 1),\n",
    "    0,\n",
    "    0,\n",
    "    0,\n",
    "    0,\n",
    "    1 / math.sqrt(4) * complex(1, 0),\n",
    "    1 / math.sqrt(8) * complex(1, 0),\n",
    "]\n",
    "\n",
    "circuit.initialize(desired_vector, [0, 1, 2, 3])\n",
    "\n",
    "circuit.measure([0, 1, 2, 3], [0, 1, 2, 3])\n",
    "\n",
    "print(circuit)\n",
    "\n",
    "###############################################################\n",
    "# Execute on a simulator backend.\n",
    "###############################################################\n",
    "shots = 10000\n",
    "\n",
    "# Desired vector\n",
    "print(\"Desired probabilities: \")\n",
    "print([format(abs(x * x), \".3f\") for x in desired_vector])\n",
    "\n",
    "# Initialize on local simulator\n",
    "sim_backend = BasicSimulator()\n",
    "job = sim_backend.run(transpile(circuit, sim_backend), shots=shots)\n",
    "result = job.result()\n",
    "\n",
    "counts = result.get_counts(circuit)\n",
    "\n",
    "qubit_strings = [format(i, \"04b\") for i in range(2**4)]\n",
    "print(\"Probabilities from simulator: \")\n",
    "print([format(counts.get(s, 0) / shots, \".3f\") for s in qubit_strings])"
   ]
  },
  {
   "cell_type": "code",
   "execution_count": 23,
   "metadata": {},
   "outputs": [
    {
     "name": "stdout",
     "output_type": "stream",
     "text": [
      "{'0 0 1': 254, '0 0 0': 256, '0 1 1': 259, '0 1 0': 238, '1 0 0': 7, '1 1 1': 5, '1 0 1': 3, '1 1 0': 2}\n",
      "{'0 0 1': 270, '0 0 0': 262, '1 1 0': 6, '0 1 1': 230, '0 1 0': 247, '1 0 0': 4, '1 0 1': 3, '1 1 1': 2}\n"
     ]
    }
   ],
   "source": [
    "\n",
    "from qiskit import QuantumRegister, ClassicalRegister, QuantumCircuit\n",
    "from qiskit import transpile\n",
    "from qiskit.providers.basic_provider import BasicSimulator\n",
    "\n",
    "###############################################################\n",
    "# Set the backend name and coupling map.\n",
    "###############################################################\n",
    "coupling_map = [[0, 1], [0, 2], [1, 2], [3, 2], [3, 4], [4, 2]]\n",
    "backend = BasicSimulator()\n",
    "\n",
    "###############################################################\n",
    "# Make a quantum program for quantum teleportation.\n",
    "###############################################################\n",
    "q = QuantumRegister(3, \"q\")\n",
    "c0 = ClassicalRegister(1, \"c0\")\n",
    "c1 = ClassicalRegister(1, \"c1\")\n",
    "c2 = ClassicalRegister(1, \"c2\")\n",
    "qc = QuantumCircuit(q, c0, c1, c2, name=\"teleport\")\n",
    "\n",
    "# Prepare an initial state\n",
    "qc.u(0.3, 0.2, 0.1, q[0])\n",
    "\n",
    "# Prepare a Bell pair\n",
    "qc.h(q[1])\n",
    "qc.cx(q[1], q[2])\n",
    "\n",
    "# Barrier following state preparation\n",
    "qc.barrier(q)\n",
    "\n",
    "# Measure in the Bell basis\n",
    "qc.cx(q[0], q[1])\n",
    "qc.h(q[0])\n",
    "qc.measure(q[0], c0[0])\n",
    "qc.measure(q[1], c1[0])\n",
    "\n",
    "# Apply a correction\n",
    "qc.barrier(q)\n",
    "qc.z(q[2]).c_if(c0, 1)\n",
    "qc.x(q[2]).c_if(c1, 1)\n",
    "qc.measure(q[2], c2[0])\n",
    "\n",
    "###############################################################\n",
    "# Execute.\n",
    "# Experiment does not support feedback, so we use the simulator\n",
    "###############################################################\n",
    "\n",
    "# First version: not mapped\n",
    "initial_layout = {q[0]: 0, q[1]: 1, q[2]: 2}\n",
    "job = backend.run(\n",
    "    transpile(qc, backend=backend, coupling_map=None, initial_layout=initial_layout), shots=1024\n",
    ")\n",
    "\n",
    "result = job.result()\n",
    "print(result.get_counts(qc))\n",
    "\n",
    "# Second version: mapped to 2x8 array coupling graph\n",
    "job = backend.run(\n",
    "    transpile(qc, backend=backend, coupling_map=coupling_map, initial_layout=initial_layout),\n",
    "    shots=1024,\n",
    ")\n",
    "result = job.result()\n",
    "print(result.get_counts(qc))"
   ]
  },
  {
   "cell_type": "code",
   "execution_count": 25,
   "metadata": {},
   "outputs": [
    {
     "name": "stdout",
     "output_type": "stream",
     "text": [
      "Original Circuit:\n",
      "          ┌───┐                    \n",
      "q_0: ──■──┤ Z ├──■─────────────────\n",
      "     ┌─┴─┐├───┤┌─┴─┐┌───┐          \n",
      "q_1: ┤ X ├┤ X ├┤ X ├┤ X ├──────────\n",
      "     └───┘└─┬─┘└───┘└─┬─┘     ┌───┐\n",
      "q_2: ───────■────■────■────■──┤ X ├\n",
      "     ┌───┐     ┌─┴─┐┌───┐┌─┴─┐└─┬─┘\n",
      "q_3: ┤ X ├─────┤ X ├┤ X ├┤ X ├──■──\n",
      "     └─┬─┘┌───┐└───┘└─┬─┘└───┘     \n",
      "q_4: ──■──┤ Z ├───────■────────────\n",
      "          └───┘                    \n",
      "\n",
      "Transformed Circuit after Commutation Analysis and Commutative Cancellation:\n",
      "     ┌───┐\n",
      "q_0: ┤ Z ├\n",
      "     └───┘\n",
      "q_1: ─────\n",
      "     ┌───┐\n",
      "q_2: ┤ X ├\n",
      "     └─┬─┘\n",
      "q_3: ──■──\n",
      "     ┌───┐\n",
      "q_4: ┤ Z ├\n",
      "     └───┘\n"
     ]
    }
   ],
   "source": [
    "from qiskit import QuantumCircuit\n",
    "from qiskit.transpiler import PassManager\n",
    "from qiskit.transpiler.passes import CommutationAnalysis, CommutativeCancellation\n",
    "\n",
    "# Create a quantum circuit\n",
    "circuit = QuantumCircuit(5)\n",
    "\n",
    "# Quantum Instantaneous Polynomial Time example\n",
    "circuit.cx(0, 1)\n",
    "circuit.cx(2, 1)\n",
    "circuit.cx(4, 3)\n",
    "circuit.cx(2, 3)\n",
    "circuit.z(0)\n",
    "circuit.z(4)\n",
    "circuit.cx(0, 1)\n",
    "circuit.cx(2, 1)\n",
    "circuit.cx(4, 3)\n",
    "circuit.cx(2, 3)\n",
    "circuit.cx(3, 2)\n",
    "\n",
    "print(\"Original Circuit:\")\n",
    "print(circuit)\n",
    "\n",
    "# Create a PassManager and add passes for commutation analysis and cancellation\n",
    "pm = PassManager()\n",
    "pm.append([CommutationAnalysis(), CommutativeCancellation()])\n",
    "\n",
    "# Apply the passes to the circuit\n",
    "new_circuit = pm.run(circuit)\n",
    "\n",
    "print(\"\\nTransformed Circuit after Commutation Analysis and Commutative Cancellation:\")\n",
    "print(new_circuit)\n"
   ]
  },
  {
   "cell_type": "code",
   "execution_count": null,
   "metadata": {},
   "outputs": [],
   "source": []
  },
  {
   "cell_type": "code",
   "execution_count": 30,
   "metadata": {},
   "outputs": [],
   "source": []
  },
  {
   "cell_type": "code",
   "execution_count": null,
   "metadata": {},
   "outputs": [],
   "source": []
  },
  {
   "cell_type": "code",
   "execution_count": null,
   "metadata": {},
   "outputs": [],
   "source": []
  }
 ],
 "metadata": {
  "kernelspec": {
   "display_name": "cwq",
   "language": "python",
   "name": "python3"
  },
  "language_info": {
   "codemirror_mode": {
    "name": "ipython",
    "version": 3
   },
   "file_extension": ".py",
   "mimetype": "text/x-python",
   "name": "python",
   "nbconvert_exporter": "python",
   "pygments_lexer": "ipython3",
   "version": "3.12.4"
  }
 },
 "nbformat": 4,
 "nbformat_minor": 2
}
